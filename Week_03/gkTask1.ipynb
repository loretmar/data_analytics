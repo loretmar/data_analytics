{
 "cells": [
  {
   "cell_type": "code",
   "execution_count": 1,
   "metadata": {},
   "outputs": [
    {
     "name": "stdout",
     "output_type": "stream",
     "text": [
      "/workspaces/data_analytics/Week_03\n"
     ]
    }
   ],
   "source": [
    "# Libraries\n",
    "import os\n",
    "import re\n",
    "import fnmatch\n",
    "import datetime\n",
    "import numpy as np\n",
    "import pandas as pd\n",
    "\n",
    "# Ignore warnings\n",
    "import warnings\n",
    "warnings.filterwarnings(\"ignore\")\n",
    "\n",
    "# Show current working directory\n",
    "print(os.getcwd())"
   ]
  },
  {
   "cell_type": "code",
   "execution_count": 9,
   "metadata": {},
   "outputs": [
    {
     "data": {
      "text/plain": [
       "(3980, 9)"
      ]
     },
     "execution_count": 9,
     "metadata": {},
     "output_type": "execute_result"
    }
   ],
   "source": [
    "# Read the data to a pandas data frame\n",
    "df = pd.read_csv('Cars_autoscout24.csv', sep=';', encoding='utf-8')\n",
    "\n",
    "# Get number of rows and columns\n",
    "df.shape"
   ]
  },
  {
   "cell_type": "code",
   "execution_count": 19,
   "metadata": {},
   "outputs": [
    {
     "data": {
      "text/plain": [
       "0       HUBRAUM: 2'967 CM3 ZYLINDER: 6 ANHÄNGELAST GEB...\n",
       "1       HUBRAUM: 1'796 CM3 ZYLINDER: 4 LETZTE PRÜFUNG:...\n",
       "2       HUBRAUM: 3'498 CM3 ZYLINDER: 6 ANHÄNGELAST GEB...\n",
       "3       HUBRAUM: 1'991 CM3 ZYLINDER: 4 LETZTE PRÜFUNG:...\n",
       "4       HUBRAUM: 1'984 CM3 ZYLINDER: 4 LETZTE PRÜFUNG:...\n",
       "                              ...                        \n",
       "3975    HUBRAUM: 3'586 CM3 ZYLINDER: 8 LETZTE PRÜFUNG:...\n",
       "3976    HUBRAUM: 5'491 CM3 ZYLINDER: 8 LETZTE PRÜFUNG:...\n",
       "3977    HUBRAUM: 6'209 CM3 ZYLINDER: 8 AUSSENFARBE: SC...\n",
       "3978    HUBRAUM: 2'792 CM3 ZYLINDER: 6 ANHÄNGELAST GEB...\n",
       "3979    HUBRAUM: 2'793 CM3 ZYLINDER: 6 ANHÄNGELAST GEB...\n",
       "Name: Description_upper, Length: 3980, dtype: object"
      ]
     },
     "execution_count": 19,
     "metadata": {},
     "output_type": "execute_result"
    }
   ],
   "source": [
    "df['Str_len'] = df['Description'].str.len()\n",
    "df['Description_upper'] = df['Description'].str.upper()\n",
    "df['Description_upper'] = df['Description_upper'].str.lstrip()\n",
    "df['Description_upper'] = df['Description_upper'].str.rstrip()\n",
    "df['Description_upper']\n"
   ]
  }
 ],
 "metadata": {
  "kernelspec": {
   "display_name": "Python 3",
   "language": "python",
   "name": "python3"
  },
  "language_info": {
   "codemirror_mode": {
    "name": "ipython",
    "version": 3
   },
   "file_extension": ".py",
   "mimetype": "text/x-python",
   "name": "python",
   "nbconvert_exporter": "python",
   "pygments_lexer": "ipython3",
   "version": "3.10.13"
  },
  "orig_nbformat": 4
 },
 "nbformat": 4,
 "nbformat_minor": 2
}
