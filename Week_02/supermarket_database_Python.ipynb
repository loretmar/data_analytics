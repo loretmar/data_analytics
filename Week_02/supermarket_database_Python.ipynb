{
 "cells": [
  {
   "cell_type": "markdown",
   "id": "spectacular-oxford",
   "metadata": {},
   "source": [
    "# Writing data to and reading data from a Database using Python"
   ]
  },
  {
   "cell_type": "markdown",
   "id": "14d7fbf5",
   "metadata": {},
   "source": [
    "## Libraries and settings"
   ]
  },
  {
   "cell_type": "code",
   "execution_count": 1,
   "id": "6b7c9af0",
   "metadata": {},
   "outputs": [
    {
     "name": "stdout",
     "output_type": "stream",
     "text": [
      "/workspaces/data_analytics/Week_02\n"
     ]
    }
   ],
   "source": [
    "# Libraries\n",
    "import os\n",
    "import sqlite3\n",
    "import fnmatch\n",
    "import numpy as np\n",
    "import pandas as pd\n",
    "import matplotlib.pyplot as plt\n",
    "\n",
    "# Ignore warnings\n",
    "import warnings\n",
    "warnings.filterwarnings(\"ignore\")\n",
    "\n",
    "# Function to close a sqlite db-connection\n",
    "def check_conn(conn):\n",
    "     try:\n",
    "        conn.cursor()\n",
    "        return True\n",
    "     except Exception as ex:\n",
    "        return False\n",
    "\n",
    "# Get current working directory\n",
    "print(os.getcwd())"
   ]
  },
  {
   "cell_type": "markdown",
   "id": "0b880d4d",
   "metadata": {},
   "source": [
    "## Create sqlite data base"
   ]
  },
  {
   "cell_type": "code",
   "execution_count": 2,
   "id": "240f7517",
   "metadata": {},
   "outputs": [
    {
     "name": "stdout",
     "output_type": "stream",
     "text": [
      "apartment_database.db\n",
      "supermarket_database.db\n"
     ]
    }
   ],
   "source": [
    "# Create data base\n",
    "conn = sqlite3.connect('supermarket_database.db') \n",
    "cursor = conn.cursor()\n",
    "\n",
    "# Show dbs in the directory\n",
    "flist = fnmatch.filter(os.listdir('.'), '*.db')\n",
    "for i in flist:\n",
    "    print(i)"
   ]
  },
  {
   "cell_type": "markdown",
   "id": "aff97772",
   "metadata": {},
   "source": [
    "## Create SQL-table in the database"
   ]
  },
  {
   "cell_type": "code",
   "execution_count": 7,
   "id": "a3d83cba",
   "metadata": {},
   "outputs": [],
   "source": [
    "cursor.execute('''CREATE TABLE IF NOT EXISTS supermarkets_table (\n",
    "                                                               Brand VARCHAR(200),\n",
    "                                                               City VARCHAR(200)\n",
    "                                                               )''')\n",
    "# Confirm changes to the table\n",
    "conn.commit()"
   ]
  },
  {
   "cell_type": "markdown",
   "id": "a87c8dee",
   "metadata": {},
   "source": [
    "## Read data from file to data frame"
   ]
  },
  {
   "cell_type": "code",
   "execution_count": 9,
   "id": "34300bd6",
   "metadata": {},
   "outputs": [
    {
     "name": "stdout",
     "output_type": "stream",
     "text": [
      "(3392, 2)\n"
     ]
    },
    {
     "data": {
      "text/html": [
       "<div>\n",
       "<style scoped>\n",
       "    .dataframe tbody tr th:only-of-type {\n",
       "        vertical-align: middle;\n",
       "    }\n",
       "\n",
       "    .dataframe tbody tr th {\n",
       "        vertical-align: top;\n",
       "    }\n",
       "\n",
       "    .dataframe thead th {\n",
       "        text-align: right;\n",
       "    }\n",
       "</style>\n",
       "<table border=\"1\" class=\"dataframe\">\n",
       "  <thead>\n",
       "    <tr style=\"text-align: right;\">\n",
       "      <th></th>\n",
       "      <th>brand</th>\n",
       "      <th>city</th>\n",
       "    </tr>\n",
       "  </thead>\n",
       "  <tbody>\n",
       "    <tr>\n",
       "      <th>0</th>\n",
       "      <td>Spar</td>\n",
       "      <td>NaN</td>\n",
       "    </tr>\n",
       "    <tr>\n",
       "      <th>1</th>\n",
       "      <td>Migros</td>\n",
       "      <td>Uznach</td>\n",
       "    </tr>\n",
       "    <tr>\n",
       "      <th>2</th>\n",
       "      <td>Coop</td>\n",
       "      <td>Uznach</td>\n",
       "    </tr>\n",
       "    <tr>\n",
       "      <th>3</th>\n",
       "      <td>Coop</td>\n",
       "      <td>Zürich</td>\n",
       "    </tr>\n",
       "    <tr>\n",
       "      <th>4</th>\n",
       "      <td>Migros</td>\n",
       "      <td>Zürich</td>\n",
       "    </tr>\n",
       "    <tr>\n",
       "      <th>...</th>\n",
       "      <td>...</td>\n",
       "      <td>...</td>\n",
       "    </tr>\n",
       "    <tr>\n",
       "      <th>3387</th>\n",
       "      <td>NaN</td>\n",
       "      <td>NaN</td>\n",
       "    </tr>\n",
       "    <tr>\n",
       "      <th>3388</th>\n",
       "      <td>Migros</td>\n",
       "      <td>NaN</td>\n",
       "    </tr>\n",
       "    <tr>\n",
       "      <th>3389</th>\n",
       "      <td>NaN</td>\n",
       "      <td>Wil SG</td>\n",
       "    </tr>\n",
       "    <tr>\n",
       "      <th>3390</th>\n",
       "      <td>NaN</td>\n",
       "      <td>Adliswil</td>\n",
       "    </tr>\n",
       "    <tr>\n",
       "      <th>3391</th>\n",
       "      <td>Coop</td>\n",
       "      <td>NaN</td>\n",
       "    </tr>\n",
       "  </tbody>\n",
       "</table>\n",
       "<p>3392 rows × 2 columns</p>\n",
       "</div>"
      ],
      "text/plain": [
       "       brand      city\n",
       "0       Spar       NaN\n",
       "1     Migros    Uznach\n",
       "2       Coop    Uznach\n",
       "3       Coop    Zürich\n",
       "4     Migros    Zürich\n",
       "...      ...       ...\n",
       "3387     NaN       NaN\n",
       "3388  Migros       NaN\n",
       "3389     NaN    Wil SG\n",
       "3390     NaN  Adliswil\n",
       "3391    Coop       NaN\n",
       "\n",
       "[3392 rows x 2 columns]"
      ]
     },
     "execution_count": 9,
     "metadata": {},
     "output_type": "execute_result"
    }
   ],
   "source": [
    "df = pd.read_csv('supermarkets_data_prepared.csv', \n",
    "                  sep=',', \n",
    "                  encoding='utf-8')[['brand', 'city']]\n",
    "print(df.shape)\n",
    "df"
   ]
  },
  {
   "cell_type": "markdown",
   "id": "ef970dfe",
   "metadata": {},
   "source": [
    "## Write data to the SQL-table in data base"
   ]
  },
  {
   "cell_type": "code",
   "execution_count": 11,
   "id": "1c728ac7",
   "metadata": {},
   "outputs": [
    {
     "data": {
      "text/plain": [
       "3392"
      ]
     },
     "execution_count": 11,
     "metadata": {},
     "output_type": "execute_result"
    }
   ],
   "source": [
    "df.to_sql(name = 'supermarkets_table',\n",
    "          con = conn,\n",
    "          index = False,\n",
    "          if_exists = 'replace')"
   ]
  },
  {
   "cell_type": "markdown",
   "id": "43c2ef9f",
   "metadata": {},
   "source": [
    "## Query the SQL-table"
   ]
  },
  {
   "cell_type": "code",
   "execution_count": 14,
   "id": "48dcc02c",
   "metadata": {},
   "outputs": [
    {
     "data": {
      "text/html": [
       "<div>\n",
       "<style scoped>\n",
       "    .dataframe tbody tr th:only-of-type {\n",
       "        vertical-align: middle;\n",
       "    }\n",
       "\n",
       "    .dataframe tbody tr th {\n",
       "        vertical-align: top;\n",
       "    }\n",
       "\n",
       "    .dataframe thead th {\n",
       "        text-align: right;\n",
       "    }\n",
       "</style>\n",
       "<table border=\"1\" class=\"dataframe\">\n",
       "  <thead>\n",
       "    <tr style=\"text-align: right;\">\n",
       "      <th></th>\n",
       "      <th>brand</th>\n",
       "      <th>city</th>\n",
       "    </tr>\n",
       "  </thead>\n",
       "  <tbody>\n",
       "    <tr>\n",
       "      <th>0</th>\n",
       "      <td>Migros</td>\n",
       "      <td>Winterthur</td>\n",
       "    </tr>\n",
       "    <tr>\n",
       "      <th>1</th>\n",
       "      <td>Migros</td>\n",
       "      <td>Winterthur</td>\n",
       "    </tr>\n",
       "    <tr>\n",
       "      <th>2</th>\n",
       "      <td>Migros</td>\n",
       "      <td>Winterthur</td>\n",
       "    </tr>\n",
       "    <tr>\n",
       "      <th>3</th>\n",
       "      <td>None</td>\n",
       "      <td>Winterthur</td>\n",
       "    </tr>\n",
       "    <tr>\n",
       "      <th>4</th>\n",
       "      <td>None</td>\n",
       "      <td>Winterthur</td>\n",
       "    </tr>\n",
       "    <tr>\n",
       "      <th>5</th>\n",
       "      <td>None</td>\n",
       "      <td>Winterthur</td>\n",
       "    </tr>\n",
       "    <tr>\n",
       "      <th>6</th>\n",
       "      <td>Migros</td>\n",
       "      <td>Winterthur</td>\n",
       "    </tr>\n",
       "    <tr>\n",
       "      <th>7</th>\n",
       "      <td>Denner</td>\n",
       "      <td>Winterthur</td>\n",
       "    </tr>\n",
       "    <tr>\n",
       "      <th>8</th>\n",
       "      <td>Migros</td>\n",
       "      <td>Winterthur</td>\n",
       "    </tr>\n",
       "    <tr>\n",
       "      <th>9</th>\n",
       "      <td>Migros</td>\n",
       "      <td>Winterthur</td>\n",
       "    </tr>\n",
       "    <tr>\n",
       "      <th>10</th>\n",
       "      <td>None</td>\n",
       "      <td>Winterthur</td>\n",
       "    </tr>\n",
       "    <tr>\n",
       "      <th>11</th>\n",
       "      <td>ALDI</td>\n",
       "      <td>Winterthur</td>\n",
       "    </tr>\n",
       "    <tr>\n",
       "      <th>12</th>\n",
       "      <td>None</td>\n",
       "      <td>Winterthur</td>\n",
       "    </tr>\n",
       "    <tr>\n",
       "      <th>13</th>\n",
       "      <td>None</td>\n",
       "      <td>Winterthur</td>\n",
       "    </tr>\n",
       "    <tr>\n",
       "      <th>14</th>\n",
       "      <td>None</td>\n",
       "      <td>Winterthur</td>\n",
       "    </tr>\n",
       "    <tr>\n",
       "      <th>15</th>\n",
       "      <td>None</td>\n",
       "      <td>Winterthur</td>\n",
       "    </tr>\n",
       "    <tr>\n",
       "      <th>16</th>\n",
       "      <td>Alnatura</td>\n",
       "      <td>Winterthur</td>\n",
       "    </tr>\n",
       "    <tr>\n",
       "      <th>17</th>\n",
       "      <td>Migros</td>\n",
       "      <td>Winterthur</td>\n",
       "    </tr>\n",
       "    <tr>\n",
       "      <th>18</th>\n",
       "      <td>Migros</td>\n",
       "      <td>Winterthur</td>\n",
       "    </tr>\n",
       "    <tr>\n",
       "      <th>19</th>\n",
       "      <td>None</td>\n",
       "      <td>Winterthur</td>\n",
       "    </tr>\n",
       "    <tr>\n",
       "      <th>20</th>\n",
       "      <td>Coop</td>\n",
       "      <td>Winterthur</td>\n",
       "    </tr>\n",
       "    <tr>\n",
       "      <th>21</th>\n",
       "      <td>Migros-Outlet</td>\n",
       "      <td>Winterthur</td>\n",
       "    </tr>\n",
       "    <tr>\n",
       "      <th>22</th>\n",
       "      <td>None</td>\n",
       "      <td>Winterthur</td>\n",
       "    </tr>\n",
       "    <tr>\n",
       "      <th>23</th>\n",
       "      <td>Migros</td>\n",
       "      <td>Winterthur</td>\n",
       "    </tr>\n",
       "    <tr>\n",
       "      <th>24</th>\n",
       "      <td>Denner</td>\n",
       "      <td>Winterthur</td>\n",
       "    </tr>\n",
       "    <tr>\n",
       "      <th>25</th>\n",
       "      <td>ALDI</td>\n",
       "      <td>Winterthur</td>\n",
       "    </tr>\n",
       "    <tr>\n",
       "      <th>26</th>\n",
       "      <td>None</td>\n",
       "      <td>Winterthur</td>\n",
       "    </tr>\n",
       "  </tbody>\n",
       "</table>\n",
       "</div>"
      ],
      "text/plain": [
       "            brand        city\n",
       "0          Migros  Winterthur\n",
       "1          Migros  Winterthur\n",
       "2          Migros  Winterthur\n",
       "3            None  Winterthur\n",
       "4            None  Winterthur\n",
       "5            None  Winterthur\n",
       "6          Migros  Winterthur\n",
       "7          Denner  Winterthur\n",
       "8          Migros  Winterthur\n",
       "9          Migros  Winterthur\n",
       "10           None  Winterthur\n",
       "11           ALDI  Winterthur\n",
       "12           None  Winterthur\n",
       "13           None  Winterthur\n",
       "14           None  Winterthur\n",
       "15           None  Winterthur\n",
       "16       Alnatura  Winterthur\n",
       "17         Migros  Winterthur\n",
       "18         Migros  Winterthur\n",
       "19           None  Winterthur\n",
       "20           Coop  Winterthur\n",
       "21  Migros-Outlet  Winterthur\n",
       "22           None  Winterthur\n",
       "23         Migros  Winterthur\n",
       "24         Denner  Winterthur\n",
       "25           ALDI  Winterthur\n",
       "26           None  Winterthur"
      ]
     },
     "execution_count": 14,
     "metadata": {},
     "output_type": "execute_result"
    }
   ],
   "source": [
    "# Query the SQL-table\n",
    "cursor.execute('''SELECT *\n",
    "               FROM supermarkets_table\n",
    "               WHERE city = \"Winterthur\"''')\n",
    "\n",
    "df = pd.DataFrame(cursor.fetchall(), \n",
    "                  columns=['brand','city',])    \n",
    "df"
   ]
  },
  {
   "cell_type": "markdown",
   "id": "7904d668",
   "metadata": {},
   "source": [
    "## Close db connection (if open)"
   ]
  },
  {
   "cell_type": "code",
   "execution_count": 16,
   "id": "1b90d3ee",
   "metadata": {},
   "outputs": [
    {
     "name": "stdout",
     "output_type": "stream",
     "text": [
      "False\n"
     ]
    }
   ],
   "source": [
    "# Close db connection (if open)\n",
    "try:\n",
    "    if check_conn(conn):\n",
    "        conn.close()\n",
    "    else:\n",
    "        pass\n",
    "except:\n",
    "    pass\n",
    "\n",
    "# Status (True = open, False = closed)\n",
    "print(check_conn(conn))"
   ]
  },
  {
   "cell_type": "markdown",
   "id": "e847eb93",
   "metadata": {},
   "source": [
    "### Jupyter notebook --footer info-- (please always provide this at the end of each submitted notebook)"
   ]
  },
  {
   "cell_type": "code",
   "execution_count": 17,
   "id": "8e706987",
   "metadata": {},
   "outputs": [
    {
     "name": "stdout",
     "output_type": "stream",
     "text": [
      "-----------------------------------\n",
      "POSIX\n",
      "Linux | 6.2.0-1012-azure\n",
      "Datetime: 2023-10-02 13:27:45\n",
      "Python Version: 3.10.13\n",
      "-----------------------------------\n"
     ]
    }
   ],
   "source": [
    "import os\n",
    "import platform\n",
    "import socket\n",
    "from platform import python_version\n",
    "from datetime import datetime\n",
    "\n",
    "print('-----------------------------------')\n",
    "print(os.name.upper())\n",
    "print(platform.system(), '|', platform.release())\n",
    "print('Datetime:', datetime.now().strftime(\"%Y-%m-%d %H:%M:%S\"))\n",
    "print('Python Version:', python_version())\n",
    "print('-----------------------------------')"
   ]
  }
 ],
 "metadata": {
  "kernelspec": {
   "display_name": "Python 3 (ipykernel)",
   "language": "python",
   "name": "python3"
  },
  "language_info": {
   "codemirror_mode": {
    "name": "ipython",
    "version": 3
   },
   "file_extension": ".py",
   "mimetype": "text/x-python",
   "name": "python",
   "nbconvert_exporter": "python",
   "pygments_lexer": "ipython3",
   "version": "3.10.13"
  }
 },
 "nbformat": 4,
 "nbformat_minor": 5
}
