{
 "cells": [
  {
   "cell_type": "code",
   "execution_count": 54,
   "metadata": {},
   "outputs": [],
   "source": [
    "import pandas as pd\n",
    "import re\n",
    "import matplotlib.pyplot as plt\n",
    "\n",
    "allBigmacPrices = pd.read_csv(\"BigmacPrice.csv\")\n",
    "#print(allBigmacPrices)\n"
   ]
  },
  {
   "cell_type": "code",
   "execution_count": null,
   "metadata": {},
   "outputs": [],
   "source": [
    "chickenData = pd.read_excel(\"ChickenData.xlsx\")\n",
    "print(chickenData)\n",
    "chickenData_Dict = chickenData.groupby(\"breed\")['eggs_per_year'].sum().reset_index()\n",
    "#print(chickenData_Dict)"
   ]
  },
  {
   "cell_type": "code",
   "execution_count": 58,
   "metadata": {},
   "outputs": [
    {
     "name": "stdout",
     "output_type": "stream",
     "text": [
      "      Offer_Id                                               Type  \\\n",
      "0      7324420  AUDI A5 Sportback 3.0 TDI quattro S-tronic (Li...   \n",
      "1      7512768        MERCEDES-BENZ SLK 200 7G-Tronic (Cabriolet)   \n",
      "2      7512034  MERCEDES-BENZ C 350 Avantgarde 4Matic 7G-Troni...   \n",
      "3      7512728  MERCEDES-BENZ A 45 AMG 4Matic Speedshift 7G-DC...   \n",
      "4      7490242  AUDI A5 Sportback 2.0 TFSI Sport quattro S-tro...   \n",
      "...        ...                                                ...   \n",
      "3975   7137137                    FERRARI F360 Spider (Cabriolet)   \n",
      "3976   6758841            MERCEDES-BENZ SL 500 560 SL (Cabriolet)   \n",
      "3977   7461330        MERCEDES-BENZ CL 63 AMG 7G-Tronic (Coupï¿½)   \n",
      "3978   7005403                        BMW 328i Cabrio (Cabriolet)   \n",
      "3979   7200843                  BMW 328i Cabrio Sport (Cabriolet)   \n",
      "\n",
      "               Price      PS Init_Regist   Kilometer Fuel_Type  \\\n",
      "0     CHF 22'500.ï¿½  245 PS     10.2014   75'000 km    Diesel   \n",
      "1     CHF 23'749.ï¿½  184 PS      6.2013   46'655 km    Benzin   \n",
      "2     CHF 18'500.ï¿½  306 PS      6.2011  138'955 km    Benzin   \n",
      "3     CHF 36'000.ï¿½  360 PS      8.2015   43'000 km    Benzin   \n",
      "4     CHF 48'500.ï¿½  252 PS      9.2018   43'300 km    Benzin   \n",
      "...              ...     ...         ...         ...       ...   \n",
      "3975  CHF 58'400.ï¿½  400 PS      2.2002   78'000 km    Benzin   \n",
      "3976  CHF 15'900.ï¿½  232 PS      1.1987  315'000 km    Benzin   \n",
      "3977  CHF 42'000.ï¿½  525 PS      8.2007   85'000 km    Benzin   \n",
      "3978   CHF 9'980.ï¿½  193 PS      8.1995  188'920 km    Benzin   \n",
      "3979  CHF 13'500.ï¿½  193 PS      4.1999  134'000 km    Benzin   \n",
      "\n",
      "                        Transmission  Numeric_Price  \n",
      "0     Automatisiertes Schaltgetriebe          22500  \n",
      "1                Automat sequentiell          23749  \n",
      "2                Automat sequentiell          18500  \n",
      "3     Automatisiertes Schaltgetriebe          36000  \n",
      "4     Automatisiertes Schaltgetriebe          48500  \n",
      "...                              ...            ...  \n",
      "3975  Automatisiertes Schaltgetriebe          58400  \n",
      "3976              Automatik-Getriebe          15900  \n",
      "3977             Automat sequentiell          42000  \n",
      "3978          Schaltgetriebe manuell           9980  \n",
      "3979          Schaltgetriebe manuell          13500  \n",
      "\n",
      "[3980 rows x 9 columns]\n"
     ]
    },
    {
     "data": {
      "image/png": "[encoded data removed]",
      "text/plain": [
       "<Figure size 640x480 with 1 Axes>"
      ]
     },
     "metadata": {},
     "output_type": "display_data"
    }
   ],
   "source": [
    "import pandas as pd\n",
    "import re\n",
    "\n",
    "cars = pd.read_csv(\"Cars_autoscout24.csv\", delimiter=\";\", encoding=\"cp1252\");\n",
    "df = pd.DataFrame(cars)\n",
    "\n",
    "def extract_and_convert(value):\n",
    "    cleaned_value = re.sub(r\"[^0-9.]\", \"\", value)\n",
    "    cleaned_value = cleaned_value.replace(',', '')\n",
    "\n",
    "    try:\n",
    "        numeric_value = int(float(cleaned_value))\n",
    "        return numeric_value\n",
    "    except ValueError:\n",
    "        return None \n",
    "\n",
    "df['Numeric_Price'] = df['Price'].apply(extract_and_convert)\n",
    "\n",
    "print(df)\n",
    "\n",
    "df = df.sort_values(by='Numeric_Price', ascending=False)\n",
    "\n",
    "# Plotting the sorted 'Price' values\n",
    "plt.bar(range(len(df)), df['Numeric_Price'], color='blue')\n",
    "\n",
    "# Adding labels and a title\n",
    "plt.xlabel('Index')\n",
    "plt.ylabel('Price')\n",
    "plt.title('Prices in Descending Order')\n",
    "\n",
    "# Setting x-axis labels to the original 'Item' values\n",
    "plt.xticks(range(len(df)), df['Offer_Id'])\n",
    "\n",
    "plt.show()\n"
   ]
  }
 ],
 "metadata": {
  "kernelspec": {
   "display_name": "Python 3",
   "language": "python",
   "name": "python3"
  },
  "language_info": {
   "codemirror_mode": {
    "name": "ipython",
    "version": 3
   },
   "file_extension": ".py",
   "mimetype": "text/x-python",
   "name": "python",
   "nbconvert_exporter": "python",
   "pygments_lexer": "ipython3",
   "version": "3.10.13"
  },
  "orig_nbformat": 4
 },
 "nbformat": 4,
 "nbformat_minor": 2
}
